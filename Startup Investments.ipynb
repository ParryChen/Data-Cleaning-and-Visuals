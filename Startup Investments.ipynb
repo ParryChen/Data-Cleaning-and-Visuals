{
 "cells": [
  {
   "cell_type": "markdown",
   "metadata": {},
   "source": [
    "Can use this function if you want to dislpay all rows in dataframe. \n",
    "pd.set_option(\"display.max_rows\", None, \"display.max_columns\", None)\n",
    "\n",
    "Dataset can be found here: https://www.kaggle.com/arindam235/startup-investments-crunchbase"
   ]
  },
  {
   "cell_type": "markdown",
   "metadata": {},
   "source": [
    "# Import Libraries"
   ]
  },
  {
   "cell_type": "code",
   "execution_count": 2,
   "metadata": {},
   "outputs": [],
   "source": [
    "import numpy as np\n",
    "import pandas as pd\n",
    "import scipy.stats as stats\n",
    "import matplotlib.pyplot as plt\n",
    "import seaborn as sns\n",
    "import chardet"
   ]
  },
  {
   "cell_type": "markdown",
   "metadata": {},
   "source": [
    "# Checking what type of encoding is used"
   ]
  },
  {
   "cell_type": "code",
   "execution_count": 2,
   "metadata": {},
   "outputs": [
    {
     "name": "stdout",
     "output_type": "stream",
     "text": [
      "{'encoding': 'ascii', 'confidence': 1.0, 'language': ''}\n"
     ]
    }
   ],
   "source": [
    "path='investments_VC.csv'\n",
    "f = open(path,'rb')\n",
    "#change to read?\n",
    "line = f.readline()\n",
    "print(chardet.detect(line))"
   ]
  },
  {
   "cell_type": "code",
   "execution_count": 4,
   "metadata": {},
   "outputs": [],
   "source": [
    "dataset = pd.read_csv(\"investments_VC.csv\", encoding = 'unicode_escape')"
   ]
  },
  {
   "cell_type": "markdown",
   "metadata": {},
   "source": [
    "# Taking a peak at the data"
   ]
  },
  {
   "cell_type": "code",
   "execution_count": 18,
   "metadata": {},
   "outputs": [
    {
     "data": {
      "text/html": [
       "<div>\n",
       "<style scoped>\n",
       "    .dataframe tbody tr th:only-of-type {\n",
       "        vertical-align: middle;\n",
       "    }\n",
       "\n",
       "    .dataframe tbody tr th {\n",
       "        vertical-align: top;\n",
       "    }\n",
       "\n",
       "    .dataframe thead th {\n",
       "        text-align: right;\n",
       "    }\n",
       "</style>\n",
       "<table border=\"1\" class=\"dataframe\">\n",
       "  <thead>\n",
       "    <tr style=\"text-align: right;\">\n",
       "      <th></th>\n",
       "      <th>name</th>\n",
       "      <th>homepage_url</th>\n",
       "      <th>market</th>\n",
       "      <th>funding_total_usd</th>\n",
       "      <th>status</th>\n",
       "      <th>country_code</th>\n",
       "      <th>state_code</th>\n",
       "      <th>region</th>\n",
       "      <th>city</th>\n",
       "      <th>funding_rounds</th>\n",
       "      <th>...</th>\n",
       "      <th>undisclosed</th>\n",
       "      <th>convertible_note</th>\n",
       "      <th>debt_financing</th>\n",
       "      <th>angel</th>\n",
       "      <th>grant</th>\n",
       "      <th>private_equity</th>\n",
       "      <th>post_ipo_equity</th>\n",
       "      <th>post_ipo_debt</th>\n",
       "      <th>secondary_market</th>\n",
       "      <th>product_crowdfunding</th>\n",
       "    </tr>\n",
       "  </thead>\n",
       "  <tbody>\n",
       "    <tr>\n",
       "      <th>0</th>\n",
       "      <td>#waywire</td>\n",
       "      <td>http://www.waywire.com</td>\n",
       "      <td>News</td>\n",
       "      <td>1750000.0</td>\n",
       "      <td>acquired</td>\n",
       "      <td>USA</td>\n",
       "      <td>NY</td>\n",
       "      <td>New York City</td>\n",
       "      <td>New York</td>\n",
       "      <td>1.0</td>\n",
       "      <td>...</td>\n",
       "      <td>0.0</td>\n",
       "      <td>0.0</td>\n",
       "      <td>0.0</td>\n",
       "      <td>0.0</td>\n",
       "      <td>0.0</td>\n",
       "      <td>0.0</td>\n",
       "      <td>0.0</td>\n",
       "      <td>0.0</td>\n",
       "      <td>0.0</td>\n",
       "      <td>0.0</td>\n",
       "    </tr>\n",
       "    <tr>\n",
       "      <th>1</th>\n",
       "      <td>&amp;TV Communications</td>\n",
       "      <td>http://enjoyandtv.com</td>\n",
       "      <td>Games</td>\n",
       "      <td>4000000.0</td>\n",
       "      <td>operating</td>\n",
       "      <td>USA</td>\n",
       "      <td>CA</td>\n",
       "      <td>Los Angeles</td>\n",
       "      <td>Los Angeles</td>\n",
       "      <td>2.0</td>\n",
       "      <td>...</td>\n",
       "      <td>0.0</td>\n",
       "      <td>0.0</td>\n",
       "      <td>0.0</td>\n",
       "      <td>0.0</td>\n",
       "      <td>0.0</td>\n",
       "      <td>0.0</td>\n",
       "      <td>0.0</td>\n",
       "      <td>0.0</td>\n",
       "      <td>0.0</td>\n",
       "      <td>0.0</td>\n",
       "    </tr>\n",
       "    <tr>\n",
       "      <th>2</th>\n",
       "      <td>'Rock' Your Paper</td>\n",
       "      <td>http://www.rockyourpaper.org</td>\n",
       "      <td>Publishing</td>\n",
       "      <td>40000.0</td>\n",
       "      <td>operating</td>\n",
       "      <td>EST</td>\n",
       "      <td>NaN</td>\n",
       "      <td>Tallinn</td>\n",
       "      <td>Tallinn</td>\n",
       "      <td>1.0</td>\n",
       "      <td>...</td>\n",
       "      <td>0.0</td>\n",
       "      <td>0.0</td>\n",
       "      <td>0.0</td>\n",
       "      <td>0.0</td>\n",
       "      <td>0.0</td>\n",
       "      <td>0.0</td>\n",
       "      <td>0.0</td>\n",
       "      <td>0.0</td>\n",
       "      <td>0.0</td>\n",
       "      <td>0.0</td>\n",
       "    </tr>\n",
       "    <tr>\n",
       "      <th>3</th>\n",
       "      <td>(In)Touch Network</td>\n",
       "      <td>http://www.InTouchNetwork.com</td>\n",
       "      <td>Electronics</td>\n",
       "      <td>1500000.0</td>\n",
       "      <td>operating</td>\n",
       "      <td>GBR</td>\n",
       "      <td>NaN</td>\n",
       "      <td>London</td>\n",
       "      <td>London</td>\n",
       "      <td>1.0</td>\n",
       "      <td>...</td>\n",
       "      <td>0.0</td>\n",
       "      <td>0.0</td>\n",
       "      <td>0.0</td>\n",
       "      <td>0.0</td>\n",
       "      <td>0.0</td>\n",
       "      <td>0.0</td>\n",
       "      <td>0.0</td>\n",
       "      <td>0.0</td>\n",
       "      <td>0.0</td>\n",
       "      <td>0.0</td>\n",
       "    </tr>\n",
       "    <tr>\n",
       "      <th>4</th>\n",
       "      <td>-R- Ranch and Mine</td>\n",
       "      <td>NaN</td>\n",
       "      <td>Tourism</td>\n",
       "      <td>60000.0</td>\n",
       "      <td>operating</td>\n",
       "      <td>USA</td>\n",
       "      <td>TX</td>\n",
       "      <td>Dallas</td>\n",
       "      <td>Fort Worth</td>\n",
       "      <td>2.0</td>\n",
       "      <td>...</td>\n",
       "      <td>0.0</td>\n",
       "      <td>0.0</td>\n",
       "      <td>0.0</td>\n",
       "      <td>0.0</td>\n",
       "      <td>0.0</td>\n",
       "      <td>0.0</td>\n",
       "      <td>0.0</td>\n",
       "      <td>0.0</td>\n",
       "      <td>0.0</td>\n",
       "      <td>0.0</td>\n",
       "    </tr>\n",
       "  </tbody>\n",
       "</table>\n",
       "<p>5 rows × 26 columns</p>\n",
       "</div>"
      ],
      "text/plain": [
       "                 name                   homepage_url         market  \\\n",
       "0            #waywire         http://www.waywire.com          News    \n",
       "1  &TV Communications          http://enjoyandtv.com         Games    \n",
       "2   'Rock' Your Paper   http://www.rockyourpaper.org    Publishing    \n",
       "3   (In)Touch Network  http://www.InTouchNetwork.com   Electronics    \n",
       "4  -R- Ranch and Mine                            NaN       Tourism    \n",
       "\n",
       "   funding_total_usd     status country_code state_code         region  \\\n",
       "0          1750000.0   acquired          USA         NY  New York City   \n",
       "1          4000000.0  operating          USA         CA    Los Angeles   \n",
       "2            40000.0  operating          EST        NaN        Tallinn   \n",
       "3          1500000.0  operating          GBR        NaN         London   \n",
       "4            60000.0  operating          USA         TX         Dallas   \n",
       "\n",
       "          city  funding_rounds  ...  undisclosed convertible_note  \\\n",
       "0     New York             1.0  ...          0.0              0.0   \n",
       "1  Los Angeles             2.0  ...          0.0              0.0   \n",
       "2      Tallinn             1.0  ...          0.0              0.0   \n",
       "3       London             1.0  ...          0.0              0.0   \n",
       "4   Fort Worth             2.0  ...          0.0              0.0   \n",
       "\n",
       "  debt_financing  angel  grant  private_equity  post_ipo_equity  \\\n",
       "0            0.0    0.0    0.0             0.0              0.0   \n",
       "1            0.0    0.0    0.0             0.0              0.0   \n",
       "2            0.0    0.0    0.0             0.0              0.0   \n",
       "3            0.0    0.0    0.0             0.0              0.0   \n",
       "4            0.0    0.0    0.0             0.0              0.0   \n",
       "\n",
       "   post_ipo_debt  secondary_market  product_crowdfunding  \n",
       "0            0.0               0.0                   0.0  \n",
       "1            0.0               0.0                   0.0  \n",
       "2            0.0               0.0                   0.0  \n",
       "3            0.0               0.0                   0.0  \n",
       "4            0.0               0.0                   0.0  \n",
       "\n",
       "[5 rows x 26 columns]"
      ]
     },
     "execution_count": 18,
     "metadata": {},
     "output_type": "execute_result"
    }
   ],
   "source": [
    "dataset.head(5)"
   ]
  },
  {
   "cell_type": "code",
   "execution_count": 278,
   "metadata": {
    "scrolled": true
   },
   "outputs": [
    {
     "name": "stdout",
     "output_type": "stream",
     "text": [
      "<class 'pandas.core.frame.DataFrame'>\n",
      "Int64Index: 35244 entries, 0 to 49437\n",
      "Data columns (total 26 columns):\n",
      " #   Column                Non-Null Count  Dtype  \n",
      "---  ------                --------------  -----  \n",
      " 0   name                  35244 non-null  object \n",
      " 1   homepage_url          33820 non-null  object \n",
      " 2   market                35244 non-null  object \n",
      " 3   funding_total_usd     35244 non-null  float64\n",
      " 4   status                34492 non-null  object \n",
      " 5   country_code          35244 non-null  object \n",
      " 6   state_code            24450 non-null  object \n",
      " 7   region                35244 non-null  object \n",
      " 8   city                  34627 non-null  object \n",
      " 9   funding_rounds        35244 non-null  float64\n",
      " 10  founded_year          28884 non-null  float64\n",
      " 11  first_funding_at      35244 non-null  object \n",
      " 12  last_funding_at       35244 non-null  object \n",
      " 13  seed                  35244 non-null  float64\n",
      " 14  venture               35244 non-null  float64\n",
      " 15  equity_crowdfunding   35244 non-null  float64\n",
      " 16  undisclosed           35244 non-null  float64\n",
      " 17  convertible_note      35244 non-null  float64\n",
      " 18  debt_financing        35244 non-null  float64\n",
      " 19  angel                 35244 non-null  float64\n",
      " 20  grant                 35244 non-null  float64\n",
      " 21  private_equity        35244 non-null  float64\n",
      " 22  post_ipo_equity       35244 non-null  float64\n",
      " 23  post_ipo_debt         35244 non-null  float64\n",
      " 24  secondary_market      35244 non-null  float64\n",
      " 25  product_crowdfunding  35244 non-null  float64\n",
      "dtypes: float64(16), object(10)\n",
      "memory usage: 7.3+ MB\n"
     ]
    }
   ],
   "source": [
    "dataset.info()"
   ]
  },
  {
   "cell_type": "markdown",
   "metadata": {},
   "source": [
    "# Cleaning up data"
   ]
  },
  {
   "cell_type": "markdown",
   "metadata": {},
   "source": [
    "Converting funding column to float, and removing columns and rows without relevant information to this analysis."
   ]
  },
  {
   "cell_type": "code",
   "execution_count": 5,
   "metadata": {
    "scrolled": true
   },
   "outputs": [],
   "source": [
    "dataset.columns = dataset.columns.str.strip()\n",
    "dataset[\"funding_total_usd\"] = dataset[\"funding_total_usd\"].str.strip()\n",
    "dataset['funding_total_usd'] = dataset['funding_total_usd'].str.replace(',','')\n",
    "dataset['funding_total_usd'] = dataset['funding_total_usd'].replace('-',np.NaN)\n",
    "dataset['funding_total_usd'] = dataset['funding_total_usd'].astype(\"float\")\n",
    "#write all in one line?"
   ]
  },
  {
   "cell_type": "code",
   "execution_count": 6,
   "metadata": {},
   "outputs": [],
   "source": [
    "dataset = dataset[dataset[\"name\"].notnull()]\n",
    "dataset = dataset[dataset[\"funding_total_usd\"].notnull()]\n",
    "dataset = dataset[dataset[\"market\"].notnull() & dataset[\"region\"].notnull()]"
   ]
  },
  {
   "cell_type": "code",
   "execution_count": 7,
   "metadata": {},
   "outputs": [],
   "source": [
    "dataset = dataset.drop([\"permalink\", \"category_list\", \"founded_quarter\", \"founded_at\", \"founded_month\"], axis = 1)\n",
    "dataset = dataset.drop(dataset.loc[:,\"round_A\":\"round_H\"], axis = 1)"
   ]
  },
  {
   "cell_type": "markdown",
   "metadata": {},
   "source": [
    "Validated that total funding adds up other funding columns, remove duplicates."
   ]
  },
  {
   "cell_type": "code",
   "execution_count": 8,
   "metadata": {},
   "outputs": [],
   "source": [
    "dataset_manual_fund = dataset.loc[:,\"seed\":\"product_crowdfunding\"].sum(axis=1)\n",
    "manual_not_equal = dataset_manual_fund != dataset['funding_total_usd']"
   ]
  },
  {
   "cell_type": "code",
   "execution_count": 147,
   "metadata": {},
   "outputs": [
    {
     "data": {
      "text/plain": [
       "False    35244\n",
       "dtype: int64"
      ]
     },
     "execution_count": 147,
     "metadata": {},
     "output_type": "execute_result"
    }
   ],
   "source": [
    "manual_not_equal.value_counts()"
   ]
  },
  {
   "cell_type": "code",
   "execution_count": 8,
   "metadata": {
    "scrolled": true
   },
   "outputs": [
    {
     "data": {
      "text/plain": [
       "0"
      ]
     },
     "execution_count": 8,
     "metadata": {},
     "output_type": "execute_result"
    }
   ],
   "source": [
    "dataset.duplicated().sum()"
   ]
  },
  {
   "cell_type": "markdown",
   "metadata": {},
   "source": [
    "# Group companies by funding amount, status, and country"
   ]
  },
  {
   "cell_type": "markdown",
   "metadata": {},
   "source": [
    "This was one of my earlier projects, but I learned that I could have used a histogram to create these bins. I am working on putting better visualizations in my API project."
   ]
  },
  {
   "cell_type": "code",
   "execution_count": 9,
   "metadata": {
    "scrolled": true
   },
   "outputs": [],
   "source": [
    "ranges = [0, 100000, 1000000, 100000000, 1000000000000]\n",
    "lables = [\"Small startup\", \"Medium startup\", \"Large startup\", \"Established startup\"]\n",
    "value_count_fund = pd.cut(dataset[\"funding_total_usd\"], ranges, labels =lables).value_counts(sort = False)\n",
    "#check if the cut function duplicates values at the indicated ranges\n",
    "value_count_status = dataset[\"status\"].value_counts()\n",
    "value_count_country = dataset[\"country_code\"].copy()\n",
    "value_count_country = value_count_country.value_counts()\n",
    "thresh = 500\n",
    "value_count_country[\"Other\"] = value_count_country[value_count_country < thresh].sum()\n",
    "value_count_country = value_count_country[value_count_country > thresh]\n",
    "#value_count_country = value_count_country.value_counts().apply(lambda row:\"Other\" if row < 100 else row)"
   ]
  },
  {
   "cell_type": "code",
   "execution_count": 35,
   "metadata": {},
   "outputs": [
    {
     "data": {
      "text/plain": [
       "Small startup           4086\n",
       "Medium startup          8751\n",
       "Large startup          21447\n",
       "Established startup      960\n",
       "Name: funding_total_usd, dtype: int64"
      ]
     },
     "execution_count": 35,
     "metadata": {},
     "output_type": "execute_result"
    }
   ],
   "source": [
    "value_count_fund"
   ]
  },
  {
   "cell_type": "code",
   "execution_count": 12,
   "metadata": {
    "scrolled": true
   },
   "outputs": [
    {
     "data": {
      "text/plain": [
       "USA      23347\n",
       "GBR       2190\n",
       "CAN       1123\n",
       "CHN        964\n",
       "FRA        718\n",
       "IND        620\n",
       "DEU        614\n",
       "ISR        583\n",
       "Other     5085\n",
       "Name: country_code, dtype: int64"
      ]
     },
     "execution_count": 12,
     "metadata": {},
     "output_type": "execute_result"
    }
   ],
   "source": [
    "value_count_country"
   ]
  },
  {
   "cell_type": "markdown",
   "metadata": {},
   "source": [
    "# Data Visualization"
   ]
  },
  {
   "cell_type": "code",
   "execution_count": 56,
   "metadata": {
    "scrolled": true
   },
   "outputs": [
    {
     "data": {
      "text/plain": [
       "Text(0.5, 1.0, 'Number of Startups by Funding')"
      ]
     },
     "execution_count": 56,
     "metadata": {},
     "output_type": "execute_result"
    },
    {
     "data": {
      "image/png": "[encoded data removed]",
      "text/plain": [
       "<Figure size 432x288 with 1 Axes>"
      ]
     },
     "metadata": {
      "needs_background": "light"
     },
     "output_type": "display_data"
    }
   ],
   "source": [
    "value_count_fund.plot.bar().grid(False)\n",
    "plt.xticks(rotation = 0)\n",
    "plt.title(\"Number of Startups by Funding\", fontsize = 15)\n",
    "#how to remove text..."
   ]
  },
  {
   "cell_type": "markdown",
   "metadata": {},
   "source": [
    "***\n",
    "#### Percentile Calculator"
   ]
  },
  {
   "cell_type": "code",
   "execution_count": 30,
   "metadata": {},
   "outputs": [
    {
     "data": {
      "text/plain": [
       "36.42322097378277"
      ]
     },
     "execution_count": 30,
     "metadata": {},
     "output_type": "execute_result"
    }
   ],
   "source": [
    "funding = 1000000\n",
    "stats.percentileofscore(dataset['funding_total_usd'], funding, kind = 'weak')"
   ]
  },
  {
   "cell_type": "markdown",
   "metadata": {},
   "source": [
    "or vice versa"
   ]
  },
  {
   "cell_type": "code",
   "execution_count": 29,
   "metadata": {},
   "outputs": [
    {
     "data": {
      "text/plain": [
       "1000000.0"
      ]
     },
     "execution_count": 29,
     "metadata": {},
     "output_type": "execute_result"
    }
   ],
   "source": [
    "percentile = 36.42\n",
    "np.percentile(dataset['funding_total_usd'], percentile)"
   ]
  },
  {
   "cell_type": "markdown",
   "metadata": {},
   "source": [
    "***"
   ]
  },
  {
   "cell_type": "code",
   "execution_count": 54,
   "metadata": {},
   "outputs": [
    {
     "data": {
      "text/plain": [
       "Text(0.5, 1.0, 'Number of Startups by Status')"
      ]
     },
     "execution_count": 54,
     "metadata": {},
     "output_type": "execute_result"
    },
    {
     "data": {
      "image/png": "[encoded data removed]",
      "text/plain": [
       "<Figure size 432x288 with 1 Axes>"
      ]
     },
     "metadata": {
      "needs_background": "light"
     },
     "output_type": "display_data"
    }
   ],
   "source": [
    "value_count_status.plot.bar().grid(False)\n",
    "plt.xticks(rotation = 0)\n",
    "plt.title(\"Number of Startups by Status\", fontsize = 15)"
   ]
  },
  {
   "cell_type": "code",
   "execution_count": 53,
   "metadata": {},
   "outputs": [
    {
     "data": {
      "text/plain": [
       "Text(0.5, 1.0, 'Number of Startups by Country')"
      ]
     },
     "execution_count": 53,
     "metadata": {},
     "output_type": "execute_result"
    },
    {
     "data": {
      "image/png": "[encoded data removed]",
      "text/plain": [
       "<Figure size 432x288 with 1 Axes>"
      ]
     },
     "metadata": {
      "needs_background": "light"
     },
     "output_type": "display_data"
    }
   ],
   "source": [
    "value_count_country.plot.bar().grid(False)\n",
    "plt.xticks(rotation = 0)\n",
    "plt.title(\"Number of Startups by Country\", fontsize = 15)"
   ]
  },
  {
   "cell_type": "markdown",
   "metadata": {},
   "source": [
    "Analysis: As stated in discussion, there seems to be a bias toward largely funded startups in the US that are still operating"
   ]
  },
  {
   "cell_type": "markdown",
   "metadata": {},
   "source": [
    "Need to sort out dataset into like datatypes before you can graph\n",
    "plt.figure(figsize=(20,14))\n",
    "ax = sns.heatmap(dataset, vmin=-1, vmax=1, cbar=False,\n",
    "                    cmap='RdBu', annot=True)"
   ]
  },
  {
   "cell_type": "markdown",
   "metadata": {},
   "source": [
    "# Looking at some further analysis(still in progress)"
   ]
  },
  {
   "cell_type": "code",
   "execution_count": 52,
   "metadata": {
    "scrolled": true
   },
   "outputs": [
    {
     "data": {
      "text/plain": [
       "Text(0.5, 1.0, 'Possible Correlations to Funding')"
      ]
     },
     "execution_count": 52,
     "metadata": {},
     "output_type": "execute_result"
    },
    {
     "data": {
      "image/png": "[encoded data removed]",
      "text/plain": [
       "<Figure size 432x288 with 1 Axes>"
      ]
     },
     "metadata": {
      "needs_background": "light"
     },
     "output_type": "display_data"
    }
   ],
   "source": [
    "dataset.corr()[\"funding_total_usd\"].iloc[1:].plot.bar()\n",
    "plt.title(\"Possible Correlations to Funding\")"
   ]
  },
  {
   "cell_type": "markdown",
   "metadata": {},
   "source": [
    "#### Market Makeup Percentage"
   ]
  },
  {
   "cell_type": "code",
   "execution_count": 52,
   "metadata": {
    "scrolled": true
   },
   "outputs": [
    {
     "ename": "SyntaxError",
     "evalue": "invalid syntax (<ipython-input-52-25df17db6b4e>, line 1)",
     "output_type": "error",
     "traceback": [
      "\u001b[0;36m  File \u001b[0;32m\"<ipython-input-52-25df17db6b4e>\"\u001b[0;36m, line \u001b[0;32m1\u001b[0m\n\u001b[0;31m    market_compare = dataset.groupby(\"market\").agg(np.mean).applymap(lambda x: round(x) if x != null)\u001b[0m\n\u001b[0m                                                                                                    ^\u001b[0m\n\u001b[0;31mSyntaxError\u001b[0m\u001b[0;31m:\u001b[0m invalid syntax\n"
     ]
    }
   ],
   "source": [
    "market_compare = dataset.groupby(\"market\").agg(np.mean).applymap(lambda x: round(x) if x != null)\n",
    "#market_compare.reset_index(inplace = True)\n",
    "#market_compare.sort_values(by = \"funding_total_usd\", ascending = False).head(20)"
   ]
  },
  {
   "cell_type": "code",
   "execution_count": 17,
   "metadata": {
    "scrolled": true
   },
   "outputs": [
    {
     "data": {
      "text/plain": [
       " Software          10.835887\n",
       " Biotechnology      9.652707\n",
       " Mobile             4.344002\n",
       " E-Commerce         3.688571\n",
       " Curated Web        3.328226\n",
       "Name: market, dtype: float64"
      ]
     },
     "execution_count": 17,
     "metadata": {},
     "output_type": "execute_result"
    }
   ],
   "source": [
    "(dataset[\"market\"].value_counts(normalize = True)*100).head()"
   ]
  },
  {
   "cell_type": "markdown",
   "metadata": {},
   "source": [
    "can create interval range with this func \"intervals = pd.interval_range(start = 0, end = 600, freq = 60)\""
   ]
  },
  {
   "cell_type": "code",
   "execution_count": 18,
   "metadata": {
    "scrolled": true
   },
   "outputs": [
    {
     "data": {
      "text/plain": [
       "(0.982, 2.7]    27470\n",
       "(2.7, 4.4]       5669\n",
       "(4.4, 6.1]       1518\n",
       "(6.1, 7.8]        247\n",
       "(7.8, 9.5]        233\n",
       "(9.5, 11.2]        77\n",
       "(12.9, 14.6]       12\n",
       "(11.2, 12.9]       12\n",
       "(14.6, 16.3]        5\n",
       "(16.3, 18.0]        1\n",
       "Name: funding_rounds, dtype: int64"
      ]
     },
     "execution_count": 18,
     "metadata": {},
     "output_type": "execute_result"
    }
   ],
   "source": [
    "dataset[\"funding_rounds\"].value_counts(bins = 10)"
   ]
  },
  {
   "cell_type": "code",
   "execution_count": 20,
   "metadata": {},
   "outputs": [],
   "source": [
    "pd.set_option(\"display.max_rows\", None, \"display.max_columns\", None)"
   ]
  },
  {
   "cell_type": "markdown",
   "metadata": {},
   "source": [
    "need to clean up market, and do comparison"
   ]
  },
  {
   "cell_type": "code",
   "execution_count": 10,
   "metadata": {},
   "outputs": [],
   "source": [
    "x = dataset[\"status\"].value_counts()"
   ]
  },
  {
   "cell_type": "code",
   "execution_count": 25,
   "metadata": {},
   "outputs": [],
   "source": [
    "y = pd.DataFrame(x)\n",
    "y[\"frequency\"] = (y[\"status\"] / y[\"status\"].sum())*100"
   ]
  },
  {
   "cell_type": "code",
   "execution_count": 27,
   "metadata": {},
   "outputs": [
    {
     "data": {
      "text/plain": [
       "100.0"
      ]
     },
     "execution_count": 27,
     "metadata": {},
     "output_type": "execute_result"
    }
   ],
   "source": [
    "y[\"frequency\"].sum()"
   ]
  },
  {
   "cell_type": "code",
   "execution_count": 29,
   "metadata": {},
   "outputs": [
    {
     "data": {
      "text/plain": [
       "count    3.524400e+04\n",
       "mean     1.712770e+07\n",
       "std      1.782753e+08\n",
       "min      3.000000e+01\n",
       "25%      5.000000e+05\n",
       "50%      2.383737e+06\n",
       "75%      1.079508e+07\n",
       "max      3.007950e+10\n",
       "Name: funding_total_usd, dtype: float64"
      ]
     },
     "execution_count": 29,
     "metadata": {},
     "output_type": "execute_result"
    }
   ],
   "source": [
    "dataset[\"funding_total_usd\"].describe()"
   ]
  },
  {
   "cell_type": "code",
   "execution_count": null,
   "metadata": {},
   "outputs": [],
   "source": []
  }
 ],
 "metadata": {
  "kernelspec": {
   "display_name": "Python 3",
   "language": "python",
   "name": "python3"
  },
  "language_info": {
   "codemirror_mode": {
    "name": "ipython",
    "version": 3
   },
   "file_extension": ".py",
   "mimetype": "text/x-python",
   "name": "python",
   "nbconvert_exporter": "python",
   "pygments_lexer": "ipython3",
   "version": "3.7.6"
  }
 },
 "nbformat": 4,
 "nbformat_minor": 4
}
